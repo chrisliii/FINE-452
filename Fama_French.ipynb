{
  "nbformat": 4,
  "nbformat_minor": 0,
  "metadata": {
    "colab": {
      "name": "Fama-French.ipynb",
      "provenance": [],
      "collapsed_sections": [],
      "mount_file_id": "1hJTDiUAcS5L7r6ULR-k-WYnxxl_gN09P",
      "authorship_tag": "ABX9TyMa1kAArjjLzbBnCUIDTIU0",
      "include_colab_link": true
    },
    "kernelspec": {
      "name": "python3",
      "display_name": "Python 3"
    }
  },
  "cells": [
    {
      "cell_type": "markdown",
      "metadata": {
        "id": "view-in-github",
        "colab_type": "text"
      },
      "source": [
        "<a href=\"https://colab.research.google.com/github/chrisliii/FINE-452/blob/main/Fama_French.ipynb\" target=\"_parent\"><img src=\"https://colab.research.google.com/assets/colab-badge.svg\" alt=\"Open In Colab\"/></a>"
      ]
    },
    {
      "cell_type": "code",
      "metadata": {
        "id": "2oGHm-CrpMOX",
        "outputId": "e4a0e43b-c387-4aa2-9a64-42afbe7af914",
        "colab": {
          "base_uri": "https://localhost:8080/",
          "height": 258
        }
      },
      "source": [
        "!pip install yfinance"
      ],
      "execution_count": 1,
      "outputs": [
        {
          "output_type": "stream",
          "text": [
            "Requirement already satisfied: yfinance in /usr/local/lib/python3.6/dist-packages (0.1.55)\n",
            "Requirement already satisfied: multitasking>=0.0.7 in /usr/local/lib/python3.6/dist-packages (from yfinance) (0.0.9)\n",
            "Requirement already satisfied: pandas>=0.24 in /usr/local/lib/python3.6/dist-packages (from yfinance) (1.1.3)\n",
            "Requirement already satisfied: requests>=2.20 in /usr/local/lib/python3.6/dist-packages (from yfinance) (2.23.0)\n",
            "Requirement already satisfied: lxml>=4.5.1 in /usr/local/lib/python3.6/dist-packages (from yfinance) (4.6.1)\n",
            "Requirement already satisfied: numpy>=1.15 in /usr/local/lib/python3.6/dist-packages (from yfinance) (1.18.5)\n",
            "Requirement already satisfied: python-dateutil>=2.7.3 in /usr/local/lib/python3.6/dist-packages (from pandas>=0.24->yfinance) (2.8.1)\n",
            "Requirement already satisfied: pytz>=2017.2 in /usr/local/lib/python3.6/dist-packages (from pandas>=0.24->yfinance) (2018.9)\n",
            "Requirement already satisfied: chardet<4,>=3.0.2 in /usr/local/lib/python3.6/dist-packages (from requests>=2.20->yfinance) (3.0.4)\n",
            "Requirement already satisfied: urllib3!=1.25.0,!=1.25.1,<1.26,>=1.21.1 in /usr/local/lib/python3.6/dist-packages (from requests>=2.20->yfinance) (1.24.3)\n",
            "Requirement already satisfied: certifi>=2017.4.17 in /usr/local/lib/python3.6/dist-packages (from requests>=2.20->yfinance) (2020.6.20)\n",
            "Requirement already satisfied: idna<3,>=2.5 in /usr/local/lib/python3.6/dist-packages (from requests>=2.20->yfinance) (2.10)\n",
            "Requirement already satisfied: six>=1.5 in /usr/local/lib/python3.6/dist-packages (from python-dateutil>=2.7.3->pandas>=0.24->yfinance) (1.15.0)\n"
          ],
          "name": "stdout"
        }
      ]
    },
    {
      "cell_type": "code",
      "metadata": {
        "id": "dBp7XmvZpX7a",
        "outputId": "f68f06a8-953f-4fbe-dd4b-d05b72fca102",
        "colab": {
          "base_uri": "https://localhost:8080/",
          "height": 71
        }
      },
      "source": [
        "import yfinance as yf\n",
        "import pandas as pd\n",
        "from datetime import datetime\n",
        "import statsmodels.api as sm"
      ],
      "execution_count": 2,
      "outputs": [
        {
          "output_type": "stream",
          "text": [
            "/usr/local/lib/python3.6/dist-packages/statsmodels/tools/_testing.py:19: FutureWarning: pandas.util.testing is deprecated. Use the functions in the public API at pandas.testing instead.\n",
            "  import pandas.util.testing as tm\n"
          ],
          "name": "stderr"
        }
      ]
    },
    {
      "cell_type": "code",
      "metadata": {
        "id": "s8MxB46YKOIm",
        "outputId": "f1da1005-e453-4f74-8736-18ecf689cea4",
        "colab": {
          "base_uri": "https://localhost:8080/",
          "height": 204
        }
      },
      "source": [
        "stock_name = \"^GSPC\"\n",
        "ticker = yf.Ticker(stock_name)\n",
        "#ticker.info\n",
        "# monthly data\n",
        "df_ticker_monthly_return = ticker.history(period=\"max\", interval='1mo')\n",
        "# monthly return\n",
        "df_ticker_monthly_return['MonthlyReturn'] = 100*( (df_ticker_monthly_return['Close'].shift(-1)).div(df_ticker_monthly_return['Close']) - 1)\n",
        "df_ticker_monthly_return['MonthlyReturn'] = df_ticker_monthly_return['MonthlyReturn'].shift(1)\n",
        "df_ticker_monthly_return = df_ticker_monthly_return.dropna()\n",
        "#date to string\n",
        "df_ticker_monthly_return = df_ticker_monthly_return.reset_index()\n",
        "df_ticker_monthly_return['Date'] = df_ticker_monthly_return['Date'].apply(lambda x: x.strftime('%Y%m'))\n",
        "\n",
        "df_ticker_monthly_return.head()"
      ],
      "execution_count": null,
      "outputs": [
        {
          "output_type": "execute_result",
          "data": {
            "text/html": [
              "<div>\n",
              "<style scoped>\n",
              "    .dataframe tbody tr th:only-of-type {\n",
              "        vertical-align: middle;\n",
              "    }\n",
              "\n",
              "    .dataframe tbody tr th {\n",
              "        vertical-align: top;\n",
              "    }\n",
              "\n",
              "    .dataframe thead th {\n",
              "        text-align: right;\n",
              "    }\n",
              "</style>\n",
              "<table border=\"1\" class=\"dataframe\">\n",
              "  <thead>\n",
              "    <tr style=\"text-align: right;\">\n",
              "      <th></th>\n",
              "      <th>Date</th>\n",
              "      <th>Open</th>\n",
              "      <th>High</th>\n",
              "      <th>Low</th>\n",
              "      <th>Close</th>\n",
              "      <th>Volume</th>\n",
              "      <th>Dividends</th>\n",
              "      <th>Stock Splits</th>\n",
              "      <th>MonthlyReturn</th>\n",
              "    </tr>\n",
              "  </thead>\n",
              "  <tbody>\n",
              "    <tr>\n",
              "      <th>0</th>\n",
              "      <td>192801</td>\n",
              "      <td>17.76</td>\n",
              "      <td>17.76</td>\n",
              "      <td>17.26</td>\n",
              "      <td>17.57</td>\n",
              "      <td>0</td>\n",
              "      <td>0</td>\n",
              "      <td>0</td>\n",
              "      <td>-0.509626</td>\n",
              "    </tr>\n",
              "    <tr>\n",
              "      <th>1</th>\n",
              "      <td>192802</td>\n",
              "      <td>17.53</td>\n",
              "      <td>17.63</td>\n",
              "      <td>16.95</td>\n",
              "      <td>17.26</td>\n",
              "      <td>0</td>\n",
              "      <td>0</td>\n",
              "      <td>0</td>\n",
              "      <td>-1.764371</td>\n",
              "    </tr>\n",
              "    <tr>\n",
              "      <th>2</th>\n",
              "      <td>192803</td>\n",
              "      <td>17.30</td>\n",
              "      <td>19.28</td>\n",
              "      <td>17.30</td>\n",
              "      <td>19.28</td>\n",
              "      <td>0</td>\n",
              "      <td>0</td>\n",
              "      <td>0</td>\n",
              "      <td>11.703360</td>\n",
              "    </tr>\n",
              "    <tr>\n",
              "      <th>3</th>\n",
              "      <td>192804</td>\n",
              "      <td>18.91</td>\n",
              "      <td>19.75</td>\n",
              "      <td>18.91</td>\n",
              "      <td>19.75</td>\n",
              "      <td>0</td>\n",
              "      <td>0</td>\n",
              "      <td>0</td>\n",
              "      <td>2.437759</td>\n",
              "    </tr>\n",
              "    <tr>\n",
              "      <th>4</th>\n",
              "      <td>192805</td>\n",
              "      <td>19.78</td>\n",
              "      <td>20.44</td>\n",
              "      <td>19.36</td>\n",
              "      <td>20.00</td>\n",
              "      <td>0</td>\n",
              "      <td>0</td>\n",
              "      <td>0</td>\n",
              "      <td>1.265823</td>\n",
              "    </tr>\n",
              "  </tbody>\n",
              "</table>\n",
              "</div>"
            ],
            "text/plain": [
              "     Date   Open   High    Low  ...  Volume  Dividends  Stock Splits  MonthlyReturn\n",
              "0  192801  17.76  17.76  17.26  ...       0          0             0      -0.509626\n",
              "1  192802  17.53  17.63  16.95  ...       0          0             0      -1.764371\n",
              "2  192803  17.30  19.28  17.30  ...       0          0             0      11.703360\n",
              "3  192804  18.91  19.75  18.91  ...       0          0             0       2.437759\n",
              "4  192805  19.78  20.44  19.36  ...       0          0             0       1.265823\n",
              "\n",
              "[5 rows x 9 columns]"
            ]
          },
          "metadata": {
            "tags": []
          },
          "execution_count": 9
        }
      ]
    },
    {
      "cell_type": "code",
      "metadata": {
        "id": "ig0C-saFiUED"
      },
      "source": [
        ""
      ],
      "execution_count": null,
      "outputs": []
    },
    {
      "cell_type": "code",
      "metadata": {
        "id": "Zb0WTaGEjr3h"
      },
      "source": [
        ""
      ],
      "execution_count": null,
      "outputs": []
    },
    {
      "cell_type": "code",
      "metadata": {
        "id": "r0b7Yb8xpp-j",
        "outputId": "1ec5ad46-3a35-40a9-a932-1053df72c34c",
        "colab": {
          "base_uri": "https://localhost:8080/",
          "height": 204
        }
      },
      "source": [
        "stock_name = \"DELL\"\n",
        "ticker = yf.Ticker(stock_name)\n",
        "#ticker.info\n",
        "# monthly data\n",
        "df_ticker_monthly_return = ticker.history(period=\"max\", interval='1mo')\n",
        "# process Dividends\n",
        "df_ticker_monthly_return['Dividends'] = df_ticker_monthly_return['Dividends'].shift(1)\n",
        "df_ticker_monthly_return = df_ticker_monthly_return.dropna()\n",
        "# monthly return\n",
        "df_ticker_monthly_return['MonthlyReturn'] = 100*( (df_ticker_monthly_return['Close'].shift(-1)+df_ticker_monthly_return['Dividends'].shift(-1)).div(df_ticker_monthly_return['Close']) - 1)\n",
        "df_ticker_monthly_return['MonthlyReturn'] = df_ticker_monthly_return['MonthlyReturn'].shift(1)\n",
        "df_ticker_monthly_return = df_ticker_monthly_return.dropna()\n",
        "#date to string\n",
        "df_ticker_monthly_return = df_ticker_monthly_return.reset_index()\n",
        "df_ticker_monthly_return['Date'] = df_ticker_monthly_return['Date'].apply(lambda x: x.strftime('%Y%m'))\n",
        "\n",
        "df_ticker_monthly_return.head()"
      ],
      "execution_count": 12,
      "outputs": [
        {
          "output_type": "execute_result",
          "data": {
            "text/html": [
              "<div>\n",
              "<style scoped>\n",
              "    .dataframe tbody tr th:only-of-type {\n",
              "        vertical-align: middle;\n",
              "    }\n",
              "\n",
              "    .dataframe tbody tr th {\n",
              "        vertical-align: top;\n",
              "    }\n",
              "\n",
              "    .dataframe thead th {\n",
              "        text-align: right;\n",
              "    }\n",
              "</style>\n",
              "<table border=\"1\" class=\"dataframe\">\n",
              "  <thead>\n",
              "    <tr style=\"text-align: right;\">\n",
              "      <th></th>\n",
              "      <th>Date</th>\n",
              "      <th>Open</th>\n",
              "      <th>High</th>\n",
              "      <th>Low</th>\n",
              "      <th>Close</th>\n",
              "      <th>Volume</th>\n",
              "      <th>Dividends</th>\n",
              "      <th>Stock Splits</th>\n",
              "      <th>MonthlyReturn</th>\n",
              "    </tr>\n",
              "  </thead>\n",
              "  <tbody>\n",
              "    <tr>\n",
              "      <th>0</th>\n",
              "      <td>200909</td>\n",
              "      <td>32.021257</td>\n",
              "      <td>36.097375</td>\n",
              "      <td>31.192473</td>\n",
              "      <td>34.613094</td>\n",
              "      <td>5235600.0</td>\n",
              "      <td>0.0</td>\n",
              "      <td>0</td>\n",
              "      <td>5.852513</td>\n",
              "    </tr>\n",
              "    <tr>\n",
              "      <th>1</th>\n",
              "      <td>200910</td>\n",
              "      <td>33.859653</td>\n",
              "      <td>39.585809</td>\n",
              "      <td>32.714422</td>\n",
              "      <td>35.547363</td>\n",
              "      <td>6638200.0</td>\n",
              "      <td>0.0</td>\n",
              "      <td>0</td>\n",
              "      <td>2.699178</td>\n",
              "    </tr>\n",
              "    <tr>\n",
              "      <th>2</th>\n",
              "      <td>200911</td>\n",
              "      <td>36.089851</td>\n",
              "      <td>39.593352</td>\n",
              "      <td>34.869273</td>\n",
              "      <td>37.890575</td>\n",
              "      <td>9535400.0</td>\n",
              "      <td>0.0</td>\n",
              "      <td>0</td>\n",
              "      <td>6.591803</td>\n",
              "    </tr>\n",
              "    <tr>\n",
              "      <th>3</th>\n",
              "      <td>200912</td>\n",
              "      <td>38.425517</td>\n",
              "      <td>40.452274</td>\n",
              "      <td>37.860436</td>\n",
              "      <td>39.201561</td>\n",
              "      <td>4094100.0</td>\n",
              "      <td>0.0</td>\n",
              "      <td>0</td>\n",
              "      <td>3.459925</td>\n",
              "    </tr>\n",
              "    <tr>\n",
              "      <th>4</th>\n",
              "      <td>201001</td>\n",
              "      <td>40.173503</td>\n",
              "      <td>40.459811</td>\n",
              "      <td>35.743266</td>\n",
              "      <td>37.513855</td>\n",
              "      <td>6414800.0</td>\n",
              "      <td>0.0</td>\n",
              "      <td>0</td>\n",
              "      <td>-4.305201</td>\n",
              "    </tr>\n",
              "  </tbody>\n",
              "</table>\n",
              "</div>"
            ],
            "text/plain": [
              "     Date       Open       High  ...  Dividends  Stock Splits  MonthlyReturn\n",
              "0  200909  32.021257  36.097375  ...        0.0             0       5.852513\n",
              "1  200910  33.859653  39.585809  ...        0.0             0       2.699178\n",
              "2  200911  36.089851  39.593352  ...        0.0             0       6.591803\n",
              "3  200912  38.425517  40.452274  ...        0.0             0       3.459925\n",
              "4  201001  40.173503  40.459811  ...        0.0             0      -4.305201\n",
              "\n",
              "[5 rows x 9 columns]"
            ]
          },
          "metadata": {
            "tags": []
          },
          "execution_count": 12
        }
      ]
    },
    {
      "cell_type": "code",
      "metadata": {
        "id": "a-VTRH9DpOcL",
        "outputId": "296811cb-35e0-49fe-85cc-3b8c810e3f56",
        "colab": {
          "base_uri": "https://localhost:8080/",
          "height": 204
        }
      },
      "source": [
        "df_FF_Research = pd.read_csv('F-F_Research_Data_Factors.CSV', encoding=\"utf-8\", skipinitialspace=True)\n",
        "df_FF_Research.columns = ['Date', 'Mkt-RF', 'SMB', 'HML', 'RF']\n",
        "df_FF_Research = df_FF_Research.dropna()\n",
        "df_FF_Research['Mkt-RF'] = df_FF_Research['Mkt-RF'].astype(float)\n",
        "df_FF_Research['SMB'] = df_FF_Research['SMB'].astype(float)\n",
        "df_FF_Research['HML'] = df_FF_Research['HML'].astype(float)\n",
        "\n",
        "df_FF_Research.head()"
      ],
      "execution_count": 13,
      "outputs": [
        {
          "output_type": "execute_result",
          "data": {
            "text/html": [
              "<div>\n",
              "<style scoped>\n",
              "    .dataframe tbody tr th:only-of-type {\n",
              "        vertical-align: middle;\n",
              "    }\n",
              "\n",
              "    .dataframe tbody tr th {\n",
              "        vertical-align: top;\n",
              "    }\n",
              "\n",
              "    .dataframe thead th {\n",
              "        text-align: right;\n",
              "    }\n",
              "</style>\n",
              "<table border=\"1\" class=\"dataframe\">\n",
              "  <thead>\n",
              "    <tr style=\"text-align: right;\">\n",
              "      <th></th>\n",
              "      <th>Date</th>\n",
              "      <th>Mkt-RF</th>\n",
              "      <th>SMB</th>\n",
              "      <th>HML</th>\n",
              "      <th>RF</th>\n",
              "    </tr>\n",
              "  </thead>\n",
              "  <tbody>\n",
              "    <tr>\n",
              "      <th>0</th>\n",
              "      <td>192607</td>\n",
              "      <td>2.96</td>\n",
              "      <td>-2.30</td>\n",
              "      <td>-2.87</td>\n",
              "      <td>0.22</td>\n",
              "    </tr>\n",
              "    <tr>\n",
              "      <th>1</th>\n",
              "      <td>192608</td>\n",
              "      <td>2.64</td>\n",
              "      <td>-1.40</td>\n",
              "      <td>4.19</td>\n",
              "      <td>0.25</td>\n",
              "    </tr>\n",
              "    <tr>\n",
              "      <th>2</th>\n",
              "      <td>192609</td>\n",
              "      <td>0.36</td>\n",
              "      <td>-1.32</td>\n",
              "      <td>0.01</td>\n",
              "      <td>0.23</td>\n",
              "    </tr>\n",
              "    <tr>\n",
              "      <th>3</th>\n",
              "      <td>192610</td>\n",
              "      <td>-3.24</td>\n",
              "      <td>0.04</td>\n",
              "      <td>0.51</td>\n",
              "      <td>0.32</td>\n",
              "    </tr>\n",
              "    <tr>\n",
              "      <th>4</th>\n",
              "      <td>192611</td>\n",
              "      <td>2.53</td>\n",
              "      <td>-0.20</td>\n",
              "      <td>-0.35</td>\n",
              "      <td>0.31</td>\n",
              "    </tr>\n",
              "  </tbody>\n",
              "</table>\n",
              "</div>"
            ],
            "text/plain": [
              "     Date  Mkt-RF   SMB   HML    RF\n",
              "0  192607    2.96 -2.30 -2.87  0.22\n",
              "1  192608    2.64 -1.40  4.19  0.25\n",
              "2  192609    0.36 -1.32  0.01  0.23\n",
              "3  192610   -3.24  0.04  0.51  0.32\n",
              "4  192611    2.53 -0.20 -0.35  0.31"
            ]
          },
          "metadata": {
            "tags": []
          },
          "execution_count": 13
        }
      ]
    },
    {
      "cell_type": "code",
      "metadata": {
        "id": "2L-ePpAc7BCO",
        "outputId": "ff98ed7c-3976-463c-97f2-46f9c8d6cc48",
        "colab": {
          "base_uri": "https://localhost:8080/",
          "height": 595
        }
      },
      "source": [
        "# Before merger\n",
        "df_ticker_FF = pd.merge(df_ticker_monthly_return, df_FF_Research, on='Date')\n",
        "df_ticker_FF['Date'] = df_ticker_FF['Date'].astype(int)\n",
        "df_ticker_FF = df_ticker_FF[(df_ticker_FF.Date >= 201009) & \n",
        "                            (df_ticker_FF.Date <= 201509)]\n",
        "\n",
        "model = sm.OLS(df_ticker_FF['MonthlyReturn'], sm.add_constant(\n",
        "    df_ticker_FF[['Mkt-RF', 'SMB', 'HML']].values))\n",
        "result = model.fit()\n",
        "print(stock_name + '\\n')\n",
        "print (result.params)\n",
        "print(result.summary())"
      ],
      "execution_count": 22,
      "outputs": [
        {
          "output_type": "stream",
          "text": [
            "BUD\n",
            "\n",
            "const    0.429189\n",
            "x1       1.016587\n",
            "x2      -0.338834\n",
            "x3      -0.529946\n",
            "dtype: float64\n",
            "                            OLS Regression Results                            \n",
            "==============================================================================\n",
            "Dep. Variable:          MonthlyReturn   R-squared:                       0.393\n",
            "Model:                            OLS   Adj. R-squared:                  0.361\n",
            "Method:                 Least Squares   F-statistic:                     12.31\n",
            "Date:                Wed, 28 Oct 2020   Prob (F-statistic):           2.57e-06\n",
            "Time:                        04:59:11   Log-Likelihood:                -175.71\n",
            "No. Observations:                  61   AIC:                             359.4\n",
            "Df Residuals:                      57   BIC:                             367.9\n",
            "Df Model:                           3                                         \n",
            "Covariance Type:            nonrobust                                         \n",
            "==============================================================================\n",
            "                 coef    std err          t      P>|t|      [0.025      0.975]\n",
            "------------------------------------------------------------------------------\n",
            "const          0.4292      0.615      0.698      0.488      -0.802       1.661\n",
            "x1             1.0166      0.175      5.796      0.000       0.665       1.368\n",
            "x2            -0.3388      0.293     -1.155      0.253      -0.926       0.249\n",
            "x3            -0.5299      0.311     -1.703      0.094      -1.153       0.093\n",
            "==============================================================================\n",
            "Omnibus:                        4.672   Durbin-Watson:                   2.241\n",
            "Prob(Omnibus):                  0.097   Jarque-Bera (JB):                5.585\n",
            "Skew:                           0.131   Prob(JB):                       0.0613\n",
            "Kurtosis:                       4.459   Cond. No.                         4.26\n",
            "==============================================================================\n",
            "\n",
            "Warnings:\n",
            "[1] Standard Errors assume that the covariance matrix of the errors is correctly specified.\n"
          ],
          "name": "stdout"
        }
      ]
    },
    {
      "cell_type": "code",
      "metadata": {
        "id": "1D3Y_P648-kw",
        "outputId": "9a6907cf-fa7d-4279-c5fd-ba7bbb7478c8",
        "colab": {
          "base_uri": "https://localhost:8080/",
          "height": 595
        }
      },
      "source": [
        "# After merger\n",
        "df_ticker_FF = pd.merge(df_ticker_monthly_return, df_FF_Research, on='Date')\n",
        "df_ticker_FF['Date'] = df_ticker_FF['Date'].astype(int)\n",
        "df_ticker_FF = df_ticker_FF[(df_ticker_FF.Date >= 201511) & \n",
        "                            (df_ticker_FF.Date <= 202011)]\n",
        "\n",
        "model = sm.OLS(df_ticker_FF['MonthlyReturn'], sm.add_constant(\n",
        "    df_ticker_FF[['Mkt-RF', 'SMB', 'HML']].values))\n",
        "result = model.fit()\n",
        "print(stock_name + '\\n')\n",
        "print (result.params)\n",
        "print(result.summary())"
      ],
      "execution_count": 23,
      "outputs": [
        {
          "output_type": "stream",
          "text": [
            "BUD\n",
            "\n",
            "const   -1.665961\n",
            "x1       1.312990\n",
            "x2      -0.389646\n",
            "x3       0.122467\n",
            "dtype: float64\n",
            "                            OLS Regression Results                            \n",
            "==============================================================================\n",
            "Dep. Variable:          MonthlyReturn   R-squared:                       0.412\n",
            "Model:                            OLS   Adj. R-squared:                  0.379\n",
            "Method:                 Least Squares   F-statistic:                     12.39\n",
            "Date:                Wed, 28 Oct 2020   Prob (F-statistic):           2.97e-06\n",
            "Time:                        04:59:12   Log-Likelihood:                -188.25\n",
            "No. Observations:                  57   AIC:                             384.5\n",
            "Df Residuals:                      53   BIC:                             392.7\n",
            "Df Model:                           3                                         \n",
            "Covariance Type:            nonrobust                                         \n",
            "==============================================================================\n",
            "                 coef    std err          t      P>|t|      [0.025      0.975]\n",
            "------------------------------------------------------------------------------\n",
            "const         -1.6660      0.979     -1.702      0.095      -3.629       0.297\n",
            "x1             1.3130      0.234      5.611      0.000       0.844       1.782\n",
            "x2            -0.3896      0.412     -0.946      0.348      -1.216       0.436\n",
            "x3             0.1225      0.287      0.427      0.671      -0.452       0.697\n",
            "==============================================================================\n",
            "Omnibus:                        0.228   Durbin-Watson:                   1.733\n",
            "Prob(Omnibus):                  0.892   Jarque-Bera (JB):                0.391\n",
            "Skew:                          -0.120   Prob(JB):                        0.822\n",
            "Kurtosis:                       2.673   Cond. No.                         5.19\n",
            "==============================================================================\n",
            "\n",
            "Warnings:\n",
            "[1] Standard Errors assume that the covariance matrix of the errors is correctly specified.\n"
          ],
          "name": "stdout"
        }
      ]
    },
    {
      "cell_type": "code",
      "metadata": {
        "id": "yebR8Yy4L4TV",
        "outputId": "97df3402-f317-49d2-cb17-95d4c4910bb9",
        "colab": {
          "base_uri": "https://localhost:8080/",
          "height": 204
        }
      },
      "source": [
        "df_ticker_monthly_return.tail()"
      ],
      "execution_count": 7,
      "outputs": [
        {
          "output_type": "execute_result",
          "data": {
            "text/html": [
              "<div>\n",
              "<style scoped>\n",
              "    .dataframe tbody tr th:only-of-type {\n",
              "        vertical-align: middle;\n",
              "    }\n",
              "\n",
              "    .dataframe tbody tr th {\n",
              "        vertical-align: top;\n",
              "    }\n",
              "\n",
              "    .dataframe thead th {\n",
              "        text-align: right;\n",
              "    }\n",
              "</style>\n",
              "<table border=\"1\" class=\"dataframe\">\n",
              "  <thead>\n",
              "    <tr style=\"text-align: right;\">\n",
              "      <th></th>\n",
              "      <th>Date</th>\n",
              "      <th>Open</th>\n",
              "      <th>High</th>\n",
              "      <th>Low</th>\n",
              "      <th>Close</th>\n",
              "      <th>Volume</th>\n",
              "      <th>Dividends</th>\n",
              "      <th>Stock Splits</th>\n",
              "      <th>MonthlyReturn</th>\n",
              "    </tr>\n",
              "  </thead>\n",
              "  <tbody>\n",
              "    <tr>\n",
              "      <th>405</th>\n",
              "      <td>202007</td>\n",
              "      <td>434.799988</td>\n",
              "      <td>470.609985</td>\n",
              "      <td>416.290009</td>\n",
              "      <td>444.320007</td>\n",
              "      <td>54649300.0</td>\n",
              "      <td>0.0</td>\n",
              "      <td>0.0</td>\n",
              "      <td>2.069792</td>\n",
              "    </tr>\n",
              "    <tr>\n",
              "      <th>406</th>\n",
              "      <td>202008</td>\n",
              "      <td>449.839996</td>\n",
              "      <td>533.700012</td>\n",
              "      <td>431.589996</td>\n",
              "      <td>513.390015</td>\n",
              "      <td>54517800.0</td>\n",
              "      <td>0.0</td>\n",
              "      <td>0.0</td>\n",
              "      <td>15.545104</td>\n",
              "    </tr>\n",
              "    <tr>\n",
              "      <th>407</th>\n",
              "      <td>202009</td>\n",
              "      <td>515.000000</td>\n",
              "      <td>536.880005</td>\n",
              "      <td>452.519989</td>\n",
              "      <td>490.429993</td>\n",
              "      <td>84770900.0</td>\n",
              "      <td>0.0</td>\n",
              "      <td>0.0</td>\n",
              "      <td>-4.472238</td>\n",
              "    </tr>\n",
              "    <tr>\n",
              "      <th>408</th>\n",
              "      <td>202010</td>\n",
              "      <td>497.429993</td>\n",
              "      <td>519.599976</td>\n",
              "      <td>470.130005</td>\n",
              "      <td>475.200012</td>\n",
              "      <td>38118500.0</td>\n",
              "      <td>0.0</td>\n",
              "      <td>0.0</td>\n",
              "      <td>-3.105434</td>\n",
              "    </tr>\n",
              "    <tr>\n",
              "      <th>409</th>\n",
              "      <td>202010</td>\n",
              "      <td>479.779999</td>\n",
              "      <td>481.665009</td>\n",
              "      <td>473.470001</td>\n",
              "      <td>478.559998</td>\n",
              "      <td>1896459.0</td>\n",
              "      <td>0.0</td>\n",
              "      <td>0.0</td>\n",
              "      <td>0.707068</td>\n",
              "    </tr>\n",
              "  </tbody>\n",
              "</table>\n",
              "</div>"
            ],
            "text/plain": [
              "       Date        Open        High  ...  Dividends  Stock Splits  MonthlyReturn\n",
              "405  202007  434.799988  470.609985  ...        0.0           0.0       2.069792\n",
              "406  202008  449.839996  533.700012  ...        0.0           0.0      15.545104\n",
              "407  202009  515.000000  536.880005  ...        0.0           0.0      -4.472238\n",
              "408  202010  497.429993  519.599976  ...        0.0           0.0      -3.105434\n",
              "409  202010  479.779999  481.665009  ...        0.0           0.0       0.707068\n",
              "\n",
              "[5 rows x 9 columns]"
            ]
          },
          "metadata": {
            "tags": []
          },
          "execution_count": 7
        }
      ]
    },
    {
      "cell_type": "code",
      "metadata": {
        "id": "htMfE4cnaCKn"
      },
      "source": [
        ""
      ],
      "execution_count": null,
      "outputs": []
    }
  ]
}